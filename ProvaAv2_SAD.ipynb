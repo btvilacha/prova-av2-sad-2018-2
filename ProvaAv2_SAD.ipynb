{
  "nbformat": 4,
  "nbformat_minor": 0,
  "metadata": {
    "colab": {
      "name": "ProvaAv2_SAD.ipynb",
      "version": "0.3.2",
      "provenance": [],
      "collapsed_sections": []
    },
    "kernelspec": {
      "display_name": "Python 3",
      "language": "python",
      "name": "python3"
    }
  },
  "cells": [
    {
      "metadata": {
        "id": "reuEvXQklx3Z",
        "colab_type": "text"
      },
      "cell_type": "markdown",
      "source": [
        "DISCIPLINA: Sistemas de Apoio à Decisão \tPROFESSOR(A): Alex Salgado \n",
        " \n",
        "PERÍODO: 7o. \t\t\t\tTURNO: noite \t\tAVALIAÇÃO: \n",
        " \n",
        "ALUNO(A): _________________________________________________________\n",
        " \n",
        "GRAU: \t\t\t\t\t\t\tVISTO DO PROFESSOR:\n",
        " \n",
        "Preencha sua resposta no próprio arquivo do Jupyter e depois me envie no link abaixo:\n",
        "resposta: https://goo.gl/forms/wuTdyyNoVXwVfD7v2\n"
      ]
    },
    {
      "metadata": {
        "id": "-AjMlE5Slx3d",
        "colab_type": "text"
      },
      "cell_type": "markdown",
      "source": [
        "## Questão 1 - valor (0,00)\n",
        "1.1 - Importar os modulos python para machine learn e carregar o arquivo pacotes.xlsx usando o método read_excel do pandas"
      ]
    },
    {
      "metadata": {
        "id": "zzv7qufwlx3h",
        "colab_type": "code",
        "colab": {}
      },
      "cell_type": "code",
      "source": [
        "\n",
        "import pandas as pd\n",
        "dt = pd.read_excel(\"pacotes.xlsx\")"
      ],
      "execution_count": 0,
      "outputs": []
    },
    {
      "metadata": {
        "id": "bl-OxkXzlx3u",
        "colab_type": "text"
      },
      "cell_type": "markdown",
      "source": [
        "1.2 - Exibir os primeiros registros desta tabela.  \n",
        "\n",
        "*Este banco de dados trata-se uma tabela com dados da embalagem dos correios e de acordo com as features(dimensões e peso) ele responde que tipo de pacote/categoria o mesmo se classifica (1\tcarga fragil; 2\tcarga especial; 3\tcarga normal)*\n"
      ]
    },
    {
      "metadata": {
        "id": "W5fGgvVNlx3x",
        "colab_type": "code",
        "colab": {}
      },
      "cell_type": "code",
      "source": [
        ""
      ],
      "execution_count": 0,
      "outputs": []
    },
    {
      "metadata": {
        "id": "PCZSAexklx36",
        "colab_type": "text"
      },
      "cell_type": "markdown",
      "source": [
        "## Questão 2 - valor (0,5)\n",
        "Utilizando as terminologias de Machine Learning(features e observações):  \n",
        "2.1 - Quantas \"features\" têm nessa base de dados?"
      ]
    },
    {
      "metadata": {
        "id": "ph7yS0DWlx37",
        "colab_type": "code",
        "colab": {}
      },
      "cell_type": "code",
      "source": [
        ""
      ],
      "execution_count": 0,
      "outputs": []
    },
    {
      "metadata": {
        "id": "en8rJok0lx4A",
        "colab_type": "text"
      },
      "cell_type": "markdown",
      "source": [
        "2.2 - Quantas observações têm nessa base de dados?"
      ]
    },
    {
      "metadata": {
        "id": "uxZNnkxglx4C",
        "colab_type": "code",
        "colab": {}
      },
      "cell_type": "code",
      "source": [
        ""
      ],
      "execution_count": 0,
      "outputs": []
    },
    {
      "metadata": {
        "id": "P1Wr8CNulx4G",
        "colab_type": "text"
      },
      "cell_type": "markdown",
      "source": [
        "## Questão 3 - valor (2,0)\n",
        "3.1 - Usando o algoritmo de LogisticRegression, qual a previsão? Adivinhe qual é o pacote com peso 770g, largura 26.8 cm, altura 15.62 cm, ou seja, com as seguintes features (peso = 779, largura=26.8, altura=15.62).\n"
      ]
    },
    {
      "metadata": {
        "id": "KEbvOIMtlx4H",
        "colab_type": "code",
        "colab": {}
      },
      "cell_type": "code",
      "source": [
        ""
      ],
      "execution_count": 0,
      "outputs": []
    },
    {
      "metadata": {
        "id": "wc7IpI-xlx4N",
        "colab_type": "text"
      },
      "cell_type": "markdown",
      "source": [
        "## Questão 4 - valor (2,5)\n",
        "Usando o método de avaliação de acurácia (Treinar e testar na base de dados inteira/Train test entire model), Calcular a acurácia de cada um dos 3 métodos abaixo.  \n",
        "\n",
        "\n",
        "\n",
        "4.1 - Acurácia usando o algoritmo de KNN (com 1 vizinho, k=1)\n"
      ]
    },
    {
      "metadata": {
        "id": "uaidspMSlx4P",
        "colab_type": "code",
        "colab": {}
      },
      "cell_type": "code",
      "source": [
        ""
      ],
      "execution_count": 0,
      "outputs": []
    },
    {
      "metadata": {
        "id": "SWOBSfPXlx4S",
        "colab_type": "text"
      },
      "cell_type": "markdown",
      "source": [
        "4.2 - Acurácia usando o algoritmo de KNN (com 5 vizinho, k=5)"
      ]
    },
    {
      "metadata": {
        "id": "bQv2hVRulx4T",
        "colab_type": "code",
        "colab": {}
      },
      "cell_type": "code",
      "source": [
        ""
      ],
      "execution_count": 0,
      "outputs": []
    },
    {
      "metadata": {
        "id": "vLF_1RsRlx4Y",
        "colab_type": "text"
      },
      "cell_type": "markdown",
      "source": [
        "4.3 - Acurácia usando o algoritmo de LogisticRegression"
      ]
    },
    {
      "metadata": {
        "id": "onNHe7r4lx4Z",
        "colab_type": "code",
        "colab": {}
      },
      "cell_type": "code",
      "source": [
        ""
      ],
      "execution_count": 0,
      "outputs": []
    },
    {
      "metadata": {
        "id": "tEhjoBYnlx4e",
        "colab_type": "text"
      },
      "cell_type": "markdown",
      "source": [
        "4.4 - De acordo com seus resultados anteriores, qual dos 3 métodos é mais eficiente?"
      ]
    },
    {
      "metadata": {
        "id": "c2JkFVY7lx4g",
        "colab_type": "text"
      },
      "cell_type": "markdown",
      "source": [
        " "
      ]
    }
  ]
}